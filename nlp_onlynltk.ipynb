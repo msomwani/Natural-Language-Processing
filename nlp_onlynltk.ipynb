{
 "cells": [
  {
   "cell_type": "code",
   "id": "8659740d-e040-41d3-b186-f62aaa9dd6f2",
   "metadata": {
    "ExecuteTime": {
     "end_time": "2025-09-08T07:20:36.441555Z",
     "start_time": "2025-09-08T07:20:36.433320Z"
    }
   },
   "source": [
    "text = \"Millions of people across the UK and beyond have celebrated the coronation of King Charles III - a symbolic ceremony combining a religious service and pageantry. The ceremony was held at Westminster Abbey, with the King becoming the 40th reigning monarch to be crowned there since 1066. Queen Camilla was crowned alongside him before a huge parade back to Buckingham Palace. Here's how the day of splendour and formality, which featured customs dating back more than 1,000 years, unfolded.\"\n",
    "text"
   ],
   "outputs": [
    {
     "data": {
      "text/plain": [
       "\"Millions of people across the UK and beyond have celebrated the coronation of King Charles III - a symbolic ceremony combining a religious service and pageantry. The ceremony was held at Westminster Abbey, with the King becoming the 40th reigning monarch to be crowned there since 1066. Queen Camilla was crowned alongside him before a huge parade back to Buckingham Palace. Here's how the day of splendour and formality, which featured customs dating back more than 1,000 years, unfolded.\""
      ]
     },
     "execution_count": 23,
     "metadata": {},
     "output_type": "execute_result"
    }
   ],
   "execution_count": 23
  },
  {
   "cell_type": "markdown",
   "id": "df0df141-7f37-4dc9-a0e5-f7bdd14095e5",
   "metadata": {},
   "source": [
    "Segmentation"
   ]
  },
  {
   "cell_type": "code",
   "id": "781b9e78-fa44-463f-b979-869e4e19a279",
   "metadata": {
    "ExecuteTime": {
     "end_time": "2025-09-08T07:20:36.488770Z",
     "start_time": "2025-09-08T07:20:36.482861Z"
    }
   },
   "source": [
    "import nltk\n",
    "nltk.download('punkt')\n",
    "from nltk.tokenize import sent_tokenize"
   ],
   "outputs": [
    {
     "name": "stderr",
     "output_type": "stream",
     "text": [
      "[nltk_data] Downloading package punkt to\n",
      "[nltk_data]     C:\\Users\\msomw\\AppData\\Roaming\\nltk_data...\n",
      "[nltk_data]   Package punkt is already up-to-date!\n"
     ]
    }
   ],
   "execution_count": 24
  },
  {
   "cell_type": "code",
   "id": "4e5799e7-73ed-4b06-a898-dbfe0bbe495d",
   "metadata": {
    "ExecuteTime": {
     "end_time": "2025-09-08T07:20:36.537928Z",
     "start_time": "2025-09-08T07:20:36.532375Z"
    }
   },
   "source": [
    "#splitting text into setences\n",
    "sentences=sent_tokenize(text)\n",
    "sentences"
   ],
   "outputs": [
    {
     "data": {
      "text/plain": [
       "['Millions of people across the UK and beyond have celebrated the coronation of King Charles III - a symbolic ceremony combining a religious service and pageantry.',\n",
       " 'The ceremony was held at Westminster Abbey, with the King becoming the 40th reigning monarch to be crowned there since 1066.',\n",
       " 'Queen Camilla was crowned alongside him before a huge parade back to Buckingham Palace.',\n",
       " \"Here's how the day of splendour and formality, which featured customs dating back more than 1,000 years, unfolded.\"]"
      ]
     },
     "execution_count": 25,
     "metadata": {},
     "output_type": "execute_result"
    }
   ],
   "execution_count": 25
  },
  {
   "cell_type": "code",
   "id": "cbf19da7-e63c-4d58-9b8c-db75c10e80d4",
   "metadata": {
    "ExecuteTime": {
     "end_time": "2025-09-08T07:20:36.567992Z",
     "start_time": "2025-09-08T07:20:36.561976Z"
    }
   },
   "source": [
    "sentences[2]"
   ],
   "outputs": [
    {
     "data": {
      "text/plain": [
       "'Queen Camilla was crowned alongside him before a huge parade back to Buckingham Palace.'"
      ]
     },
     "execution_count": 26,
     "metadata": {},
     "output_type": "execute_result"
    }
   ],
   "execution_count": 26
  },
  {
   "cell_type": "code",
   "id": "a8b69765-7db2-4995-a0ee-c39b047d932f",
   "metadata": {
    "ExecuteTime": {
     "end_time": "2025-09-08T07:20:36.597915Z",
     "start_time": "2025-09-08T07:20:36.591006Z"
    }
   },
   "source": [
    "import re\n",
    "#remove punctuation characters\n",
    "text=re.sub(r\"[^a-zA-Z0-9]\", \" \", sentences[2])\n",
    "text\n"
   ],
   "outputs": [
    {
     "data": {
      "text/plain": [
       "'Queen Camilla was crowned alongside him before a huge parade back to Buckingham Palace '"
      ]
     },
     "execution_count": 27,
     "metadata": {},
     "output_type": "execute_result"
    }
   ],
   "execution_count": 27
  },
  {
   "cell_type": "markdown",
   "id": "558d982a-28eb-4af7-a520-4f16c88b9f21",
   "metadata": {},
   "source": [
    "Tokenization"
   ]
  },
  {
   "cell_type": "code",
   "id": "9e9c82d3-9bf4-4e65-af92-1a797d5bbdd2",
   "metadata": {
    "ExecuteTime": {
     "end_time": "2025-09-08T07:20:36.630089Z",
     "start_time": "2025-09-08T07:20:36.625699Z"
    }
   },
   "source": [
    "from nltk.tokenize import word_tokenize\n"
   ],
   "outputs": [],
   "execution_count": 28
  },
  {
   "cell_type": "code",
   "id": "f4e51989-daab-4b85-85de-a63280a48e53",
   "metadata": {
    "ExecuteTime": {
     "end_time": "2025-09-08T07:20:36.648173Z",
     "start_time": "2025-09-08T07:20:36.642788Z"
    }
   },
   "source": [
    "words=word_tokenize(text)\n",
    "print(words)"
   ],
   "outputs": [
    {
     "name": "stdout",
     "output_type": "stream",
     "text": [
      "['Queen', 'Camilla', 'was', 'crowned', 'alongside', 'him', 'before', 'a', 'huge', 'parade', 'back', 'to', 'Buckingham', 'Palace']\n"
     ]
    }
   ],
   "execution_count": 29
  },
  {
   "cell_type": "raw",
   "id": "8ed9819f-8891-4a7b-8577-b4f5c9c3dc00",
   "metadata": {},
   "source": [
    "Removal of stop words"
   ]
  },
  {
   "cell_type": "code",
   "id": "a518a1e6-6c61-479f-a33e-0b319675dfb3",
   "metadata": {
    "ExecuteTime": {
     "end_time": "2025-09-08T07:20:36.676716Z",
     "start_time": "2025-09-08T07:20:36.668734Z"
    }
   },
   "source": [
    "nltk.download('stopwords')\n",
    "from nltk.corpus import stopwords"
   ],
   "outputs": [
    {
     "name": "stderr",
     "output_type": "stream",
     "text": [
      "[nltk_data] Downloading package stopwords to\n",
      "[nltk_data]     C:\\Users\\msomw\\AppData\\Roaming\\nltk_data...\n",
      "[nltk_data]   Package stopwords is already up-to-date!\n"
     ]
    }
   ],
   "execution_count": 30
  },
  {
   "cell_type": "code",
   "id": "7b74b134-20e8-4463-b81c-9d640f3b6b8e",
   "metadata": {
    "ExecuteTime": {
     "end_time": "2025-09-08T07:20:36.706150Z",
     "start_time": "2025-09-08T07:20:36.696349Z"
    }
   },
   "source": [
    "#removing stop words\n",
    "words=[w for w in words if w not in stopwords.words('english')]\n",
    "print(words)"
   ],
   "outputs": [
    {
     "name": "stdout",
     "output_type": "stream",
     "text": [
      "['Queen', 'Camilla', 'crowned', 'alongside', 'huge', 'parade', 'back', 'Buckingham', 'Palace']\n"
     ]
    }
   ],
   "execution_count": 31
  },
  {
   "cell_type": "code",
   "id": "fa7b4fe0-9de2-4ab6-b7af-5fb237e90f45",
   "metadata": {
    "ExecuteTime": {
     "end_time": "2025-09-08T07:20:36.725539Z",
     "start_time": "2025-09-08T07:20:36.721642Z"
    }
   },
   "source": [
    "#print(stopwords.words(\"english\"))"
   ],
   "outputs": [],
   "execution_count": 32
  },
  {
   "cell_type": "markdown",
   "id": "d23ea8e7-e82f-4e7e-a5e3-d715cb75132b",
   "metadata": {},
   "source": [
    "<b>Stemming and lematization</b>"
   ]
  },
  {
   "cell_type": "code",
   "id": "d6c7c2d3-0292-462b-955c-7b0865a3508a",
   "metadata": {
    "ExecuteTime": {
     "end_time": "2025-09-08T07:20:36.775368Z",
     "start_time": "2025-09-08T07:20:36.765440Z"
    }
   },
   "source": [
    "nltk.download('wordnet')#download for lematization\n",
    "nltk.download('omw-1.4')"
   ],
   "outputs": [
    {
     "name": "stderr",
     "output_type": "stream",
     "text": [
      "[nltk_data] Downloading package wordnet to\n",
      "[nltk_data]     C:\\Users\\msomw\\AppData\\Roaming\\nltk_data...\n",
      "[nltk_data]   Package wordnet is already up-to-date!\n",
      "[nltk_data] Downloading package omw-1.4 to\n",
      "[nltk_data]     C:\\Users\\msomw\\AppData\\Roaming\\nltk_data...\n",
      "[nltk_data]   Package omw-1.4 is already up-to-date!\n"
     ]
    },
    {
     "data": {
      "text/plain": [
       "True"
      ]
     },
     "execution_count": 33,
     "metadata": {},
     "output_type": "execute_result"
    }
   ],
   "execution_count": 33
  },
  {
   "cell_type": "code",
   "id": "ec1374e4-a500-44f9-afb6-a6036ff03b0c",
   "metadata": {
    "ExecuteTime": {
     "end_time": "2025-09-08T07:20:36.809053Z",
     "start_time": "2025-09-08T07:20:36.801968Z"
    }
   },
   "source": [
    "#stemming\n",
    "from nltk.stem.porter import PorterStemmer\n",
    "#reduce words to theire stem\n",
    "stemmed=[PorterStemmer().stem(w)for w in words]\n",
    "print(stemmed)"
   ],
   "outputs": [
    {
     "name": "stdout",
     "output_type": "stream",
     "text": [
      "['queen', 'camilla', 'crown', 'alongsid', 'huge', 'parad', 'back', 'buckingham', 'palac']\n"
     ]
    }
   ],
   "execution_count": 34
  },
  {
   "cell_type": "code",
   "id": "453b64ec-e746-4c05-9952-d01db3ec7e76",
   "metadata": {
    "ExecuteTime": {
     "end_time": "2025-09-08T07:20:36.851867Z",
     "start_time": "2025-09-08T07:20:36.846331Z"
    }
   },
   "source": [
    "#lemmatize\n",
    "from nltk.stem.wordnet import WordNetLemmatizer\n",
    "#reduceing wwords to  their rott form\n",
    "lemmatized=[WordNetLemmatizer().lemmatize(w) for w in words]\n",
    "print(lemmatized)"
   ],
   "outputs": [
    {
     "name": "stdout",
     "output_type": "stream",
     "text": [
      "['Queen', 'Camilla', 'crowned', 'alongside', 'huge', 'parade', 'back', 'Buckingham', 'Palace']\n"
     ]
    }
   ],
   "execution_count": 35
  },
  {
   "cell_type": "raw",
   "id": "d819776e-dabe-445c-a0d6-eeff6d5faa8d",
   "metadata": {},
   "source": [
    "#Stemming and lematization example \n",
    "words2=['wait','waiting','studies','studying','computers']\n",
    "#stemming\n",
    "stemmed=[PorterStemmer().stem(w) for w in words2]\n",
    "print(\"stemming output:{}\".format(stemmed))\n",
    "#lematizing\n",
    "lemmatizer=[WordNetLemmatizer().lemmatize(w) for w in words2]\n",
    "print(\"lemmatization output:{}\".format(lemmatizer))\n"
   ]
  },
  {
   "cell_type": "raw",
   "id": "79cc5d14-06d8-4a59-9a30-93c837b6837c",
   "metadata": {},
   "source": [
    "Parrt of speech tagging"
   ]
  },
  {
   "cell_type": "code",
   "id": "4bcd9e40-d4b9-4899-82cc-61730e416b91",
   "metadata": {
    "ExecuteTime": {
     "end_time": "2025-09-08T07:20:36.888178Z",
     "start_time": "2025-09-08T07:20:36.879794Z"
    }
   },
   "source": [
    "nltk.download('averaged_perceptron_tagger')\n",
    "nltk.download('maxent_ne_chunker')"
   ],
   "outputs": [
    {
     "name": "stderr",
     "output_type": "stream",
     "text": [
      "[nltk_data] Downloading package averaged_perceptron_tagger to\n",
      "[nltk_data]     C:\\Users\\msomw\\AppData\\Roaming\\nltk_data...\n",
      "[nltk_data]   Package averaged_perceptron_tagger is already up-to-\n",
      "[nltk_data]       date!\n",
      "[nltk_data] Downloading package maxent_ne_chunker to\n",
      "[nltk_data]     C:\\Users\\msomw\\AppData\\Roaming\\nltk_data...\n",
      "[nltk_data]   Package maxent_ne_chunker is already up-to-date!\n"
     ]
    },
    {
     "data": {
      "text/plain": [
       "True"
      ]
     },
     "execution_count": 36,
     "metadata": {},
     "output_type": "execute_result"
    }
   ],
   "execution_count": 36
  },
  {
   "cell_type": "code",
   "id": "1e5b242f-10c7-4172-88ee-dd9e30d8eac4",
   "metadata": {
    "ExecuteTime": {
     "end_time": "2025-09-08T07:20:36.916486Z",
     "start_time": "2025-09-08T07:20:36.910765Z"
    }
   },
   "source": [
    "from nltk import pos_tag"
   ],
   "outputs": [],
   "execution_count": 37
  },
  {
   "cell_type": "code",
   "id": "ec083576-2af2-452e-97f0-cdf8a3e08c8d",
   "metadata": {
    "ExecuteTime": {
     "end_time": "2025-09-08T07:20:36.946611Z",
     "start_time": "2025-09-08T07:20:36.938686Z"
    }
   },
   "source": [
    "pos_tag(words)"
   ],
   "outputs": [
    {
     "data": {
      "text/plain": [
       "[('Queen', 'NNP'),\n",
       " ('Camilla', 'NNP'),\n",
       " ('crowned', 'VBD'),\n",
       " ('alongside', 'RB'),\n",
       " ('huge', 'JJ'),\n",
       " ('parade', 'NN'),\n",
       " ('back', 'RB'),\n",
       " ('Buckingham', 'NNP'),\n",
       " ('Palace', 'NNP')]"
      ]
     },
     "execution_count": 38,
     "metadata": {},
     "output_type": "execute_result"
    }
   ],
   "execution_count": 38
  },
  {
   "cell_type": "raw",
   "id": "a7f18492-0f22-4b5c-b24a-7f8f1f6c47de",
   "metadata": {},
   "source": [
    "named entity reecognition"
   ]
  },
  {
   "cell_type": "code",
   "id": "eb6be064-6f1e-4873-8ea9-4384ab3f49af",
   "metadata": {
    "ExecuteTime": {
     "end_time": "2025-09-08T07:20:36.977821Z",
     "start_time": "2025-09-08T07:20:36.969100Z"
    }
   },
   "source": [
    "from nltk import ne_chunk\n",
    "nltk.download('words')"
   ],
   "outputs": [
    {
     "name": "stderr",
     "output_type": "stream",
     "text": [
      "[nltk_data] Downloading package words to\n",
      "[nltk_data]     C:\\Users\\msomw\\AppData\\Roaming\\nltk_data...\n",
      "[nltk_data]   Package words is already up-to-date!\n"
     ]
    },
    {
     "data": {
      "text/plain": [
       "True"
      ]
     },
     "execution_count": 39,
     "metadata": {},
     "output_type": "execute_result"
    }
   ],
   "execution_count": 39
  },
  {
   "cell_type": "code",
   "id": "0d954d5c-e33d-4b08-b6db-072c099694b3",
   "metadata": {
    "ExecuteTime": {
     "end_time": "2025-09-08T07:20:37.562393Z",
     "start_time": "2025-09-08T07:20:37.008534Z"
    }
   },
   "source": [
    "ner_tree=ne_chunk(pos_tag(word_tokenize(sentences[2])))\n",
    "print(ner_tree)"
   ],
   "outputs": [
    {
     "name": "stdout",
     "output_type": "stream",
     "text": [
      "(S\n",
      "  (PERSON Queen/NNP)\n",
      "  (PERSON Camilla/NNP)\n",
      "  was/VBD\n",
      "  crowned/VBN\n",
      "  alongside/RB\n",
      "  him/PRP\n",
      "  before/IN\n",
      "  a/DT\n",
      "  huge/JJ\n",
      "  parade/NN\n",
      "  back/RB\n",
      "  to/TO\n",
      "  (PERSON Buckingham/NNP Palace/NNP)\n",
      "  ./.)\n"
     ]
    }
   ],
   "execution_count": 40
  },
  {
   "cell_type": "code",
   "id": "ea7543e8-de78-43cb-bac1-1d37257f0403",
   "metadata": {
    "ExecuteTime": {
     "end_time": "2025-09-08T07:20:38.010284Z",
     "start_time": "2025-09-08T07:20:37.589198Z"
    }
   },
   "source": [
    "text=\"Millionns of people across UK and beyond have celebratedthe coronation of king charles III- a symbolic ceremony combining a religious service and pageantry.The ceremony was held at Westminster Abbey, with the King becoming the 40th reigning monarch to be crowned there since 1066. Queen Camilla was crowned alongside him before a huge parade back to Buckingham Palace. Here's how the day of splendour and formality, which featured customs dating back more than 1,000 years, unfolded.\"\n",
    "\n",
    "ner_tree = ne_chunk(pos_tag(word_tokenize(text)))\n",
    "print(ner_tree)"
   ],
   "outputs": [
    {
     "name": "stdout",
     "output_type": "stream",
     "text": [
      "(S\n",
      "  (PERSON Millionns/NNP)\n",
      "  of/IN\n",
      "  people/NNS\n",
      "  across/IN\n",
      "  (ORGANIZATION UK/NNP)\n",
      "  and/CC\n",
      "  beyond/IN\n",
      "  have/VBP\n",
      "  celebratedthe/VBN\n",
      "  coronation/NN\n",
      "  of/IN\n",
      "  king/VBG\n",
      "  charles/NNS\n",
      "  III-/NNP\n",
      "  a/DT\n",
      "  symbolic/JJ\n",
      "  ceremony/NN\n",
      "  combining/VBG\n",
      "  a/DT\n",
      "  religious/JJ\n",
      "  service/NN\n",
      "  and/CC\n",
      "  pageantry.The/NN\n",
      "  ceremony/NN\n",
      "  was/VBD\n",
      "  held/VBN\n",
      "  at/IN\n",
      "  (ORGANIZATION Westminster/NNP Abbey/NNP)\n",
      "  ,/,\n",
      "  with/IN\n",
      "  the/DT\n",
      "  King/NNP\n",
      "  becoming/VBG\n",
      "  the/DT\n",
      "  40th/CD\n",
      "  reigning/VBG\n",
      "  monarch/NN\n",
      "  to/TO\n",
      "  be/VB\n",
      "  crowned/VBN\n",
      "  there/RB\n",
      "  since/IN\n",
      "  1066/CD\n",
      "  ./.\n",
      "  (PERSON Queen/NNP Camilla/NNP)\n",
      "  was/VBD\n",
      "  crowned/VBN\n",
      "  alongside/RB\n",
      "  him/PRP\n",
      "  before/IN\n",
      "  a/DT\n",
      "  huge/JJ\n",
      "  parade/NN\n",
      "  back/RB\n",
      "  to/TO\n",
      "  (PERSON Buckingham/NNP Palace/NNP)\n",
      "  ./.\n",
      "  Here/RB\n",
      "  's/VBZ\n",
      "  how/WRB\n",
      "  the/DT\n",
      "  day/NN\n",
      "  of/IN\n",
      "  splendour/NN\n",
      "  and/CC\n",
      "  formality/NN\n",
      "  ,/,\n",
      "  which/WDT\n",
      "  featured/VBD\n",
      "  customs/NNS\n",
      "  dating/VBG\n",
      "  back/RB\n",
      "  more/JJR\n",
      "  than/IN\n",
      "  1,000/CD\n",
      "  years/NNS\n",
      "  ,/,\n",
      "  unfolded/VBD\n",
      "  ./.)\n"
     ]
    }
   ],
   "execution_count": 41
  },
  {
   "cell_type": "code",
   "id": "be5d64fa-c597-4df9-bf9b-435b1f622b43",
   "metadata": {
    "ExecuteTime": {
     "end_time": "2025-09-08T07:20:38.464482Z",
     "start_time": "2025-09-08T07:20:38.033341Z"
    }
   },
   "source": [
    "text=\"Twitter CEO Elon Musk arrived at the Staples Center in Los Angles ,California.\"\n",
    "ner_tree=ne_chunk(pos_tag(word_tokenize(text)))\n",
    "print(ner_tree)"
   ],
   "outputs": [
    {
     "name": "stdout",
     "output_type": "stream",
     "text": [
      "(S\n",
      "  (PERSON Twitter/NNP)\n",
      "  (ORGANIZATION CEO/NNP Elon/NNP Musk/NNP)\n",
      "  arrived/VBD\n",
      "  at/IN\n",
      "  the/DT\n",
      "  (FACILITY Staples/NNP Center/NNP)\n",
      "  in/IN\n",
      "  (GPE Los/NNP Angles/NNP)\n",
      "  ,/,\n",
      "  (GPE California/NNP)\n",
      "  ./.)\n"
     ]
    }
   ],
   "execution_count": 42
  },
  {
   "cell_type": "code",
   "id": "58675371-2089-4b7d-89e2-6d618cf270dd",
   "metadata": {
    "ExecuteTime": {
     "end_time": "2025-09-08T07:20:38.476566Z",
     "start_time": "2025-09-08T07:20:38.474018Z"
    }
   },
   "source": [],
   "outputs": [],
   "execution_count": null
  }
 ],
 "metadata": {
  "kernelspec": {
   "display_name": "Python 3 (ipykernel)",
   "language": "python",
   "name": "python3"
  },
  "language_info": {
   "codemirror_mode": {
    "name": "ipython",
    "version": 3
   },
   "file_extension": ".py",
   "mimetype": "text/x-python",
   "name": "python",
   "nbconvert_exporter": "python",
   "pygments_lexer": "ipython3",
   "version": "3.12.4"
  }
 },
 "nbformat": 4,
 "nbformat_minor": 5
}
